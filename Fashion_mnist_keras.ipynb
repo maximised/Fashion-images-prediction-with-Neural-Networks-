{
 "nbformat": 4,
 "nbformat_minor": 0,
 "metadata": {
  "colab": {
   "name": "Fashion_mnist_keras.ipynb",
   "provenance": [],
   "collapsed_sections": [],
   "toc_visible": true
  },
  "kernelspec": {
   "name": "python3",
   "display_name": "Python 3"
  },
  "accelerator": "GPU"
 },
 "cells": [
  {
   "cell_type": "markdown",
   "metadata": {
    "id": "XLMRPLVCFwEc"
   },
   "source": [
    "## Learning CNNs using Fashion-MNIST\n",
    "\n",
    "This assignment will bulld CNNS using the Fashion-MINST dataset. In particular, we will\n",
    "*   Use MNIST Fashion to study CNN architectures and parameters.\n",
    "\n",
    "Read more about the Fashion-MINST dataset in this paper [here](https://arxiv.org/abs/1708.07747) (**Fashion-MNIST: a Novel Image Dataset for Benchmarking Machine Learning Algorithms**)\n",
    "\n"
   ]
  },
  {
   "cell_type": "markdown",
   "metadata": {
    "id": "Ixyte299ZZgk"
   },
   "source": [
    "## Assignment Overview\n",
    "\n",
    "\n",
    "This assignment focuses on how to classify **fashion_mnist** data with a simple **Convolutional Neural Network** in Keras. \n",
    "Keras is part of the core TensorFlow library, in addition to being an independent open source project. \n",
    "\n",
    "The [fashion_mnist](https://github.com/zalandoresearch/fashion-mnist) dataset consists of \n",
    "60,000 train and 10,000 test instances. The aim is to classify an image into one of 10 categories. The possible categories/labals are:\n",
    "\n",
    "<br> **Label**\t**Description**\n",
    "<br> 0 T-shirt/top\n",
    "<br> 1 Trouser\n",
    "<br> 2 Pullover\n",
    "<br> 3 Dress\n",
    "<br> 4 Coat\n",
    "<br> 5 Sandal\n",
    "<br> 6 Shirt\n",
    "<br> 7 Sneaker\n",
    "<br> 8 Bag\n",
    "<br> 9 Ankle boot\n",
    "\n",
    "Each gray-scale input is a 28x28 low-resolution image."
   ]
  },
  {
   "cell_type": "code",
   "metadata": {
    "colab": {
     "base_uri": "https://localhost:8080/",
     "height": 232
    },
    "id": "ZSO9hRwFkUNo",
    "outputId": "98aa86fa-d143-4ee9-ef26-6f8b3329c6e6"
   },
   "source": [
    "#!pip install pycrypto\n",
    "from Crypto.Cipher import AES\n",
    "\n",
    "key = b'Sixteen byte key'\n",
    "cipher = AES.new(key, AES.MODE_EAX, nonce=nonce)\n",
    "plaintext = cipher.decrypt(ciphertext)\n",
    "try:\n",
    "    cipher.verify(tag)\n",
    "    print(\"The message is authentic:\", plaintext)\n",
    "except ValueError:\n",
    "    print(\"Key incorrect or message corrupted\")"
   ],
   "execution_count": null,
   "outputs": [
    {
     "output_type": "error",
     "ename": "AttributeError",
     "evalue": "ignored",
     "traceback": [
      "\u001B[0;31m---------------------------------------------------------------------------\u001B[0m",
      "\u001B[0;31mAttributeError\u001B[0m                            Traceback (most recent call last)",
      "\u001B[0;32m<ipython-input-3-11f93a460b30>\u001B[0m in \u001B[0;36m<module>\u001B[0;34m()\u001B[0m\n\u001B[1;32m      3\u001B[0m \u001B[0;34m\u001B[0m\u001B[0m\n\u001B[1;32m      4\u001B[0m \u001B[0mkey\u001B[0m \u001B[0;34m=\u001B[0m \u001B[0;34mb'Sixteen byte key'\u001B[0m\u001B[0;34m\u001B[0m\u001B[0;34m\u001B[0m\u001B[0m\n\u001B[0;32m----> 5\u001B[0;31m \u001B[0mcipher\u001B[0m \u001B[0;34m=\u001B[0m \u001B[0mAES\u001B[0m\u001B[0;34m.\u001B[0m\u001B[0mnew\u001B[0m\u001B[0;34m(\u001B[0m\u001B[0mkey\u001B[0m\u001B[0;34m,\u001B[0m \u001B[0mAES\u001B[0m\u001B[0;34m.\u001B[0m\u001B[0mMODE_EAX\u001B[0m\u001B[0;34m,\u001B[0m \u001B[0mnonce\u001B[0m\u001B[0;34m=\u001B[0m\u001B[0mnonce\u001B[0m\u001B[0;34m)\u001B[0m\u001B[0;34m\u001B[0m\u001B[0;34m\u001B[0m\u001B[0m\n\u001B[0m\u001B[1;32m      6\u001B[0m \u001B[0mplaintext\u001B[0m \u001B[0;34m=\u001B[0m \u001B[0mcipher\u001B[0m\u001B[0;34m.\u001B[0m\u001B[0mdecrypt\u001B[0m\u001B[0;34m(\u001B[0m\u001B[0mciphertext\u001B[0m\u001B[0;34m)\u001B[0m\u001B[0;34m\u001B[0m\u001B[0;34m\u001B[0m\u001B[0m\n\u001B[1;32m      7\u001B[0m \u001B[0;32mtry\u001B[0m\u001B[0;34m:\u001B[0m\u001B[0;34m\u001B[0m\u001B[0;34m\u001B[0m\u001B[0m\n",
      "\u001B[0;31mAttributeError\u001B[0m: module 'Crypto.Cipher.AES' has no attribute 'MODE_EAX'"
     ]
    }
   ]
  },
  {
   "cell_type": "markdown",
   "metadata": {
    "id": "1jQGPl2l7kF7",
    "colab_type": "toc"
   },
   "source": [
    "\n",
    ">>[Learning CNNs using Fashion-MNIST](#scrollTo=XLMRPLVCFwEc)\n",
    "\n",
    ">>[Notebook Overview](#scrollTo=Ixyte299ZZgk)\n",
    "\n",
    ">>[Download the fashion_mnist data](#scrollTo=LbCigZtNZZgl)\n",
    "\n",
    ">>[Visualize the data](#scrollTo=tWORMSC8FDR4)\n",
    "\n",
    ">>[Data normalization](#scrollTo=Zx-Ee6LHZZgt)\n",
    "\n",
    ">>[Split the data into train/validation/test data sets](#scrollTo=CFlNHktHBtru)\n",
    "\n",
    ">>[Create the basic model architecture](#scrollTo=HhalcO03ZZg3)\n",
    "\n",
    ">>[Compile the model](#scrollTo=FhxJ5dinZZg8)\n",
    "\n",
    ">>[Train the model](#scrollTo=DtOvh3YVZZg_)\n",
    "\n",
    ">>[Load Model with the best validation accuracy](#scrollTo=e-MGLwZQy05d)\n",
    "\n",
    ">>[Test Accuracy](#scrollTo=9RTRkan4yq5H)\n",
    "\n",
    ">>[Visualize prediction](#scrollTo=oJv7XEk10bOv)\n",
    "\n",
    ">>[Congragulations!](#scrollTo=8AehWdRAVKN5)\n",
    "\n"
   ]
  },
  {
   "cell_type": "markdown",
   "metadata": {
    "id": "LbCigZtNZZgl"
   },
   "source": [
    "## Download the fashion_mnist data\n",
    "First let's install TensorFlow version 1.8.0 and import Tensorflow. Then we download fashion-mnist which is one of the Keras datasets. "
   ]
  },
  {
   "cell_type": "code",
   "metadata": {
    "id": "d44TznbgZZgm",
    "colab": {
     "base_uri": "https://localhost:8080/"
    },
    "outputId": "c1bf7f2d-d47f-4f76-c211-b82dcaf009c0"
   },
   "source": [
    "!pip install -q -U tensorflow>=1.8.0\n",
    "import tensorflow as tf\n",
    "\n",
    "import numpy as np\n",
    "import matplotlib.pyplot as plt\n",
    "\n",
    "# Load the fashion-mnist pre-shuffled train data and test data\n",
    "(x_train, y_train), (x_test, y_test) = tf.keras.datasets.fashion_mnist.load_data()\n",
    "\n",
    "print(\"x_train shape:\", x_train.shape, \"y_train shape:\", y_train.shape)"
   ],
   "execution_count": null,
   "outputs": [
    {
     "output_type": "stream",
     "name": "stdout",
     "text": [
      "Downloading data from https://storage.googleapis.com/tensorflow/tf-keras-datasets/train-labels-idx1-ubyte.gz\n",
      "32768/29515 [=================================] - 0s 0us/step\n",
      "40960/29515 [=========================================] - 0s 0us/step\n",
      "Downloading data from https://storage.googleapis.com/tensorflow/tf-keras-datasets/train-images-idx3-ubyte.gz\n",
      "26427392/26421880 [==============================] - 0s 0us/step\n",
      "26435584/26421880 [==============================] - 0s 0us/step\n",
      "Downloading data from https://storage.googleapis.com/tensorflow/tf-keras-datasets/t10k-labels-idx1-ubyte.gz\n",
      "16384/5148 [===============================================================================================] - 0s 0us/step\n",
      "Downloading data from https://storage.googleapis.com/tensorflow/tf-keras-datasets/t10k-images-idx3-ubyte.gz\n",
      "4423680/4422102 [==============================] - 0s 0us/step\n",
      "4431872/4422102 [==============================] - 0s 0us/step\n",
      "x_train shape: (60000, 28, 28) y_train shape: (60000,)\n"
     ]
    }
   ]
  },
  {
   "cell_type": "code",
   "metadata": {
    "id": "QLRcfNbaPXvF"
   },
   "source": [
    "x_train.sh"
   ],
   "execution_count": null,
   "outputs": []
  },
  {
   "cell_type": "markdown",
   "metadata": {
    "id": "tWORMSC8FDR4"
   },
   "source": [
    "## Visualize the data"
   ]
  },
  {
   "cell_type": "code",
   "metadata": {
    "id": "aFe4wHGRFKle",
    "colab": {
     "base_uri": "https://localhost:8080/",
     "height": 350
    },
    "outputId": "0a5c77a7-f873-4594-f160-0fca77a27ea0"
   },
   "source": [
    "# Print training set shape - note there are 60,000 training data of image size of 28x28, 60,000 train labels)\n",
    "print(\"x_train shape:\", x_train.shape, \"y_train shape:\", y_train.shape)\n",
    "\n",
    "# Print the number of training and test datasets\n",
    "print(x_train.shape[0], 'train set')\n",
    "print(x_test.shape[0], 'test set')\n",
    "\n",
    "# Define the text labels\n",
    "fashion_mnist_labels = [\"T-shirt/top\",  # index 0\n",
    "                        \"Trouser\",      # index 1\n",
    "                        \"Pullover\",     # index 2 \n",
    "                        \"Dress\",        # index 3 \n",
    "                        \"Coat\",         # index 4\n",
    "                        \"Sandal\",       # index 5\n",
    "                        \"Shirt\",        # index 6 \n",
    "                        \"Sneaker\",      # index 7 \n",
    "                        \"Bag\",          # index 8 \n",
    "                        \"Ankle boot\"]   # index 9\n",
    "\n",
    "# Image index, you can pick any number between 0 and 59,999\n",
    "img_index = 4\n",
    "# y_train contains the lables, ranging from 0 to 9\n",
    "label_index = y_train[img_index]\n",
    "# Print the label, for example 2 Pullover\n",
    "print (\"y = \" + str(label_index) + \" \" +(fashion_mnist_labels[label_index]))\n",
    "# # Show one of the images from the training dataset\n",
    "plt.imshow(x_train[img_index])"
   ],
   "execution_count": null,
   "outputs": [
    {
     "output_type": "stream",
     "name": "stdout",
     "text": [
      "x_train shape: (60000, 28, 28) y_train shape: (60000,)\n",
      "60000 train set\n",
      "10000 test set\n",
      "y = 0 T-shirt/top\n"
     ]
    },
    {
     "output_type": "execute_result",
     "data": {
      "text/plain": [
       "<matplotlib.image.AxesImage at 0x7fe13cec8bd0>"
      ]
     },
     "metadata": {},
     "execution_count": 2
    },
    {
     "output_type": "display_data",
     "data": {
      "image/png": "[encoded data removed]",
      "text/plain": [
       "<Figure size 432x288 with 1 Axes>"
      ]
     },
     "metadata": {
      "needs_background": "light"
     }
    }
   ]
  },
  {
   "cell_type": "markdown",
   "metadata": {
    "id": "Zx-Ee6LHZZgt"
   },
   "source": [
    "## Data normalization\n",
    "Normalize the data dimensions so that they are of approximately the same scale."
   ]
  },
  {
   "cell_type": "code",
   "metadata": {
    "id": "XNh5NIckZZgu"
   },
   "source": [
    "x_train = x_train.astype('float32') / 255\n",
    "x_test = x_test.astype('float32') / 255"
   ],
   "execution_count": null,
   "outputs": []
  },
  {
   "cell_type": "code",
   "metadata": {
    "id": "LMSg53fiZZgx",
    "colab": {
     "base_uri": "https://localhost:8080/"
    },
    "outputId": "8977ad1c-2cbe-401f-937e-c7a1976d7a5c"
   },
   "source": [
    "print(\"Number of train data - \" + str(len(x_train)))\n",
    "print(\"Number of test data - \" + str(len(x_test)))"
   ],
   "execution_count": null,
   "outputs": [
    {
     "output_type": "stream",
     "name": "stdout",
     "text": [
      "Number of train data - 60000\n",
      "Number of test data - 10000\n"
     ]
    }
   ]
  },
  {
   "cell_type": "markdown",
   "metadata": {
    "id": "CFlNHktHBtru"
   },
   "source": [
    "## Split the data into train/validation/test data sets\n",
    "\n",
    "\n",
    "*   Training data - used for training the model\n",
    "*   Validation data - used for tuning the hyperparameters and evaluate the models\n",
    "*   Test data - used to test the model after the model has gone through initial vetting by the validation set.\n",
    "\n"
   ]
  },
  {
   "cell_type": "code",
   "metadata": {
    "id": "1ShU787gZZg0",
    "colab": {
     "base_uri": "https://localhost:8080/"
    },
    "outputId": "469a54bb-11c6-4996-e5f7-445cd8adae37"
   },
   "source": [
    "# Further break training data into train / validation sets (# put 5000 into validation set and keep remaining 55,000 for train)\n",
    "(x_train, x_valid) = x_train[5000:], x_train[:5000] \n",
    "(y_train, y_valid) = y_train[5000:], y_train[:5000]\n",
    "\n",
    "# Reshape input data from (28, 28) to (28, 28, 1)\n",
    "w, h = 28, 28\n",
    "x_train = x_train.reshape(x_train.shape[0], w, h, 1)\n",
    "x_valid = x_valid.reshape(x_valid.shape[0], w, h, 1)\n",
    "x_test = x_test.reshape(x_test.shape[0], w, h, 1)\n",
    "\n",
    "# One-hot encode the labels\n",
    "y_train = tf.keras.utils.to_categorical(y_train, 10)\n",
    "y_valid = tf.keras.utils.to_categorical(y_valid, 10)\n",
    "y_test = tf.keras.utils.to_categorical(y_test, 10)\n",
    "\n",
    "# Print training set shape\n",
    "print(\"x_train shape:\", x_train.shape, \"y_train shape:\", y_train.shape)\n",
    "\n",
    "# Print the number of training, validation, and test datasets\n",
    "print(x_train.shape[0], 'train set')\n",
    "print(x_valid.shape[0], 'validation set')\n",
    "print(x_test.shape[0], 'test set')"
   ],
   "execution_count": null,
   "outputs": [
    {
     "output_type": "stream",
     "name": "stdout",
     "text": [
      "x_train shape: (55000, 28, 28, 1) y_train shape: (55000, 10)\n",
      "55000 train set\n",
      "5000 validation set\n",
      "10000 test set\n"
     ]
    }
   ]
  },
  {
   "cell_type": "markdown",
   "metadata": {
    "id": "HhalcO03ZZg3"
   },
   "source": [
    "## Create the basic model architecture\n",
    "\n",
    "There are two APIs for defining a model in Keras:\n",
    "1. [Sequential model API](https://keras.io/models/sequential/)\n",
    "2. [Functional API](https://keras.io/models/model/)\n",
    "\n",
    "In this assignment we are using the Sequential model API. \n",
    "If you are interested in a tutorial using the Functional API, checkout Sara Robinson's blog [Predicting the price of wine with the Keras Functional API and TensorFlow](https://medium.com/tensorflow/predicting-the-price-of-wine-with-the-keras-functional-api-and-tensorflow-a95d1c2c1b03).\n",
    "\n",
    "In defining the model we will be using some of these Keras APIs:\n",
    "*   Conv2D() [link text](https://www.tensorflow.org/api_docs/python/tf/keras/layers/Conv2D/) - create a convolutional layer \n",
    "*   Pooling() [link text](https://keras.io/layers/pooling/) - create a pooling layer \n",
    "*   Dropout() [link text](https://www.tensorflow.org/api_docs/python/tf/keras/layers/Dropout) - apply drop out \n",
    "\n",
    "In the basic architecture we create two convolutional layers, and then an inference layer. \n",
    "\n",
    "The key parameters for a convolution layer are: \n",
    "for convolution--(a) number of convolution filters; (b) kernel size;\n",
    "for pooling--kernel for pooling-size;\n",
    "for dropout--dropout probability. We will refer to these as the convolution-layer parameters.\n",
    "\n",
    "The inference-layer parameters are:\n",
    "(a) hidden layer vector-size and activation;\n",
    "(b) dropout probability;\n",
    "(c) output-layer activation.\n",
    "\n",
    "When we design a network we can specify the CNN model using these parameters."
   ]
  },
  {
   "cell_type": "code",
   "metadata": {
    "id": "QgTZ47SsZZg4",
    "colab": {
     "base_uri": "https://localhost:8080/"
    },
    "outputId": "bd493758-8ecc-4589-8f02-c7a3bb55f5da"
   },
   "source": [
    "model = tf.keras.Sequential()\n",
    "\n",
    "# Must define the input shape in the first layer of the neural network\n",
    "model.add(tf.keras.layers.Conv2D(filters=64, kernel_size=3, padding='same', activation='relu', input_shape=(28,28,1))) \n",
    "model.add(tf.keras.layers.MaxPooling2D(pool_size=3))\n",
    "model.add(tf.keras.layers.Dropout(0.3))\n",
    "\n",
    "model.add(tf.keras.layers.Conv2D(filters=32, kernel_size=3, padding='same', activation='relu'))\n",
    "model.add(tf.keras.layers.MaxPooling2D(pool_size=3))\n",
    "model.add(tf.keras.layers.Dropout(0.3))\n",
    "\n",
    "model.add(tf.keras.layers.Flatten())\n",
    "model.add(tf.keras.layers.Dense(256, activation='relu'))\n",
    "model.add(tf.keras.layers.Dropout(0.5))\n",
    "model.add(tf.keras.layers.Dense(10, activation='softmax'))\n",
    "\n",
    "# Take a look at the model summary\n",
    "model.summary()"
   ],
   "execution_count": null,
   "outputs": [
    {
     "output_type": "stream",
     "name": "stdout",
     "text": [
      "Model: \"sequential_3\"\n",
      "_________________________________________________________________\n",
      " Layer (type)                Output Shape              Param #   \n",
      "=================================================================\n",
      " conv2d_6 (Conv2D)           (None, 28, 28, 64)        640       \n",
      "                                                                 \n",
      " max_pooling2d_6 (MaxPooling  (None, 9, 9, 64)         0         \n",
      " 2D)                                                             \n",
      "                                                                 \n",
      " dropout_9 (Dropout)         (None, 9, 9, 64)          0         \n",
      "                                                                 \n",
      " conv2d_7 (Conv2D)           (None, 9, 9, 32)          18464     \n",
      "                                                                 \n",
      " max_pooling2d_7 (MaxPooling  (None, 3, 3, 32)         0         \n",
      " 2D)                                                             \n",
      "                                                                 \n",
      " dropout_10 (Dropout)        (None, 3, 3, 32)          0         \n",
      "                                                                 \n",
      " flatten_3 (Flatten)         (None, 288)               0         \n",
      "                                                                 \n",
      " dense_6 (Dense)             (None, 256)               73984     \n",
      "                                                                 \n",
      " dropout_11 (Dropout)        (None, 256)               0         \n",
      "                                                                 \n",
      " dense_7 (Dense)             (None, 10)                2570      \n",
      "                                                                 \n",
      "=================================================================\n",
      "Total params: 95,658\n",
      "Trainable params: 95,658\n",
      "Non-trainable params: 0\n",
      "_________________________________________________________________\n"
     ]
    }
   ]
  },
  {
   "cell_type": "markdown",
   "metadata": {
    "id": "FhxJ5dinZZg8"
   },
   "source": [
    "## Compile the model\n",
    "Configure the learning process with compile() API before training the model. It receives three arguments:\n",
    "\n",
    "*   An optimizer \n",
    "*   A loss function \n",
    "*   A list of metrics \n"
   ]
  },
  {
   "cell_type": "code",
   "metadata": {
    "id": "CQUlOa8cZZg9"
   },
   "source": [
    "model.compile(loss='categorical_crossentropy',\n",
    "             optimizer='adam',\n",
    "             metrics=['accuracy'])"
   ],
   "execution_count": null,
   "outputs": []
  },
  {
   "cell_type": "markdown",
   "metadata": {
    "id": "DtOvh3YVZZg_"
   },
   "source": [
    "## Train the model\n",
    "\n",
    "Now let's train the model with fit() API.\n",
    "\n",
    "We use  the [ModelCheckpoint](https://keras.io/callbacks/#modelcheckpoint) API to save the model after every epoch. Set \"save_best_only = True\" to save only when the validation accuracy improves.\n"
   ]
  },
  {
   "cell_type": "code",
   "metadata": {
    "id": "ZTmapAttZZhA",
    "colab": {
     "base_uri": "https://localhost:8080/"
    },
    "outputId": "bc4f0cfa-6c22-496a-cee4-66ee66536d6f"
   },
   "source": [
    "from keras.callbacks import ModelCheckpoint\n",
    "\n",
    "checkpointer = ModelCheckpoint(filepath='model.weights.best.hdf5', verbose = 1, save_best_only=True)\n",
    "model.fit(x_train,\n",
    "         y_train,\n",
    "         batch_size=64,\n",
    "         epochs=10,\n",
    "         validation_data=(x_valid, y_valid),\n",
    "         callbacks=[checkpointer])"
   ],
   "execution_count": null,
   "outputs": [
    {
     "output_type": "stream",
     "name": "stdout",
     "text": [
      "Epoch 1/10\n",
      "860/860 [==============================] - ETA: 0s - loss: 0.7385 - accuracy: 0.7282\n",
      "Epoch 00001: val_loss improved from inf to 0.42248, saving model to model.weights.best.hdf5\n",
      "860/860 [==============================] - 9s 9ms/step - loss: 0.7385 - accuracy: 0.7282 - val_loss: 0.4225 - val_accuracy: 0.8500\n",
      "Epoch 2/10\n",
      "860/860 [==============================] - ETA: 0s - loss: 0.4751 - accuracy: 0.8262\n",
      "Epoch 00002: val_loss improved from 0.42248 to 0.33567, saving model to model.weights.best.hdf5\n",
      "860/860 [==============================] - 8s 9ms/step - loss: 0.4751 - accuracy: 0.8262 - val_loss: 0.3357 - val_accuracy: 0.8706\n",
      "Epoch 3/10\n",
      "857/860 [============================>.] - ETA: 0s - loss: 0.4184 - accuracy: 0.8456\n",
      "Epoch 00003: val_loss improved from 0.33567 to 0.31872, saving model to model.weights.best.hdf5\n",
      "860/860 [==============================] - 8s 9ms/step - loss: 0.4183 - accuracy: 0.8456 - val_loss: 0.3187 - val_accuracy: 0.8778\n",
      "Epoch 4/10\n",
      "857/860 [============================>.] - ETA: 0s - loss: 0.3868 - accuracy: 0.8578\n",
      "Epoch 00004: val_loss improved from 0.31872 to 0.28443, saving model to model.weights.best.hdf5\n",
      "860/860 [==============================] - 8s 9ms/step - loss: 0.3869 - accuracy: 0.8577 - val_loss: 0.2844 - val_accuracy: 0.8924\n",
      "Epoch 5/10\n",
      "859/860 [============================>.] - ETA: 0s - loss: 0.3676 - accuracy: 0.8650\n",
      "Epoch 00005: val_loss improved from 0.28443 to 0.27641, saving model to model.weights.best.hdf5\n",
      "860/860 [==============================] - 8s 9ms/step - loss: 0.3675 - accuracy: 0.8650 - val_loss: 0.2764 - val_accuracy: 0.8988\n",
      "Epoch 6/10\n",
      "855/860 [============================>.] - ETA: 0s - loss: 0.3505 - accuracy: 0.8717\n",
      "Epoch 00006: val_loss improved from 0.27641 to 0.27081, saving model to model.weights.best.hdf5\n",
      "860/860 [==============================] - 8s 9ms/step - loss: 0.3507 - accuracy: 0.8715 - val_loss: 0.2708 - val_accuracy: 0.9062\n",
      "Epoch 7/10\n",
      "854/860 [============================>.] - ETA: 0s - loss: 0.3383 - accuracy: 0.8758\n",
      "Epoch 00007: val_loss improved from 0.27081 to 0.25615, saving model to model.weights.best.hdf5\n",
      "860/860 [==============================] - 8s 9ms/step - loss: 0.3382 - accuracy: 0.8757 - val_loss: 0.2562 - val_accuracy: 0.9116\n",
      "Epoch 8/10\n",
      "855/860 [============================>.] - ETA: 0s - loss: 0.3266 - accuracy: 0.8801\n",
      "Epoch 00008: val_loss improved from 0.25615 to 0.24531, saving model to model.weights.best.hdf5\n",
      "860/860 [==============================] - 8s 9ms/step - loss: 0.3267 - accuracy: 0.8800 - val_loss: 0.2453 - val_accuracy: 0.9136\n",
      "Epoch 9/10\n",
      "859/860 [============================>.] - ETA: 0s - loss: 0.3207 - accuracy: 0.8820\n",
      "Epoch 00009: val_loss did not improve from 0.24531\n",
      "860/860 [==============================] - 8s 9ms/step - loss: 0.3207 - accuracy: 0.8820 - val_loss: 0.2457 - val_accuracy: 0.9100\n",
      "Epoch 10/10\n",
      "859/860 [============================>.] - ETA: 0s - loss: 0.3120 - accuracy: 0.8868\n",
      "Epoch 00010: val_loss did not improve from 0.24531\n",
      "860/860 [==============================] - 8s 9ms/step - loss: 0.3120 - accuracy: 0.8868 - val_loss: 0.2497 - val_accuracy: 0.9090\n"
     ]
    },
    {
     "output_type": "execute_result",
     "data": {
      "text/plain": [
       "<keras.callbacks.History at 0x7fe055565c50>"
      ]
     },
     "metadata": {},
     "execution_count": 95
    }
   ]
  },
  {
   "cell_type": "markdown",
   "metadata": {
    "id": "e-MGLwZQy05d"
   },
   "source": [
    "## Load Model with the best validation accuracy"
   ]
  },
  {
   "cell_type": "code",
   "metadata": {
    "id": "UD1tecxUZZhE"
   },
   "source": [
    "# Load the weights with the best validation accuracy\n",
    "model.load_weights('model.weights.best.hdf5')"
   ],
   "execution_count": null,
   "outputs": []
  },
  {
   "cell_type": "markdown",
   "metadata": {
    "id": "9RTRkan4yq5H"
   },
   "source": [
    "## Test Accuracy"
   ]
  },
  {
   "cell_type": "code",
   "metadata": {
    "id": "VZtqBqFFy62R",
    "colab": {
     "base_uri": "https://localhost:8080/"
    },
    "outputId": "122648fc-77ed-4897-9e31-66cab5ce0c61"
   },
   "source": [
    "# Evaluate the model on test set\n",
    "score = model.evaluate(x_test, y_test, verbose=0)\n",
    "\n",
    "# Print test accuracy\n",
    "print('\\n', 'Test accuracy:', score[1])"
   ],
   "execution_count": null,
   "outputs": [
    {
     "output_type": "stream",
     "name": "stdout",
     "text": [
      "\n",
      " Test accuracy: 0.9021999835968018\n"
     ]
    }
   ]
  },
  {
   "cell_type": "markdown",
   "metadata": {
    "id": "oJv7XEk10bOv"
   },
   "source": [
    "## Visualize prediction\n",
    "Now let's visualize the prediction using the model you just trained. \n",
    "First we get the predictions with the model from the test data.\n",
    "Then we print out 15 images from the test data set, and set the titles with the prediction (and the groud truth label).\n",
    "If the prediction matches the true label, the title will be green; otherwise it's displayed in red."
   ]
  },
  {
   "cell_type": "code",
   "metadata": {
    "id": "QwNmlfIC0YxM",
    "colab": {
     "base_uri": "https://localhost:8080/",
     "height": 458
    },
    "outputId": "c1253756-3e0a-40b1-a429-c672dc85d6b3"
   },
   "source": [
    "y_hat = model.predict(x_test)\n",
    "\n",
    "# Plot a random sample of 10 test images, their predicted labels and ground truth\n",
    "figure = plt.figure(figsize=(20, 8))\n",
    "for i, index in enumerate(np.random.choice(x_test.shape[0], size=15, replace=False)):\n",
    "    ax = figure.add_subplot(3, 5, i + 1, xticks=[], yticks=[])\n",
    "    # Display each image\n",
    "    ax.imshow(np.squeeze(x_test[index]))\n",
    "    predict_index = np.argmax(y_hat[index])\n",
    "    true_index = np.argmax(y_test[index])\n",
    "    # Set the title for each image\n",
    "    ax.set_title(\"{} ({})\".format(fashion_mnist_labels[predict_index], \n",
    "                                  fashion_mnist_labels[true_index]),\n",
    "                                  color=(\"green\" if predict_index == true_index else \"red\"))"
   ],
   "execution_count": null,
   "outputs": [
    {
     "output_type": "display_data",
     "data": {
      "image/png": "[encoded data removed]",
      "text/plain": [
       "<Figure size 1440x576 with 15 Axes>"
      ]
     },
     "metadata": {}
    }
   ]
  },
  {
   "cell_type": "code",
   "metadata": {
    "id": "PI00Mflfl0pI"
   },
   "source": [],
   "execution_count": null,
   "outputs": []
  },
  {
   "cell_type": "markdown",
   "metadata": {
    "id": "8AehWdRAVKN5"
   },
   "source": [
    "## Task 1: Architecture Comparison\n",
    "The code given above is called the baseline architecture, and will successfully train a CNN to classify fashion-MNIST with near 90% accuracy.\n",
    "We now want to compare other different architectures.\n",
    "\n",
    "Each group must run 10 additional architectures:\n",
    "\n",
    "\n",
    "*   2 different combination of number of filters\n",
    "*   2 different combinations of kernels for (convolution, pooling)\n",
    "*   2 different dropout probability values\n",
    "*   1 new architecture with more layers\n",
    "*   3 experiments with combined changes\n",
    "\n",
    "Report the results in a table with the first column describing the architecture and the second column the predictive accuracy of the model on the data.\n",
    "\n",
    "Describe how the changes to architecture influence the change in accuracy, if there is any significant change. Specifically, describe:\n",
    "* impact of number of filters\n",
    "* impact of kernel size\n",
    "* impact of dropout probability\n",
    "* impact of number of layers\n",
    "* impact of combining multiple changes.\n",
    "\n",
    "## Task 2: TensorFlow coding of model\n",
    "The second main task is to rewrite the high-level Keras code for the model using TensorFlow. The necessary code fragments are noted below. Please fill in the outstanding code and replace the Keras model with your TensorFlow model. Then compile the code to run the basic model configuration (baseline model).\n",
    "\n",
    "\n"
   ]
  },
  {
   "cell_type": "code",
   "metadata": {
    "id": "gbLeiV4qzDkc"
   },
   "source": [
    "padding = \"SAME\" \n",
    "num_output_classes = 102 \n",
    "batch_size = 32 \n",
    "learning_rate = 0.001 "
   ],
   "execution_count": null,
   "outputs": []
  },
  {
   "cell_type": "code",
   "metadata": {
    "id": "IRv2RDMWx2dA"
   },
   "source": [
    "output_classes = 10\n",
    "initializer = tf.initializers.glorot_uniform()\n",
    "def get_weight( shape , name ):\n",
    "    return tf.Variable( initializer( shape ) , name=name , trainable=True , dtype=tf.float32 )\n",
    "\n",
    "shapes = [\n",
    "    [ 2 , 2 , 1 , 64 ] , \n",
    "    [ 2 , 2 , 64 , 32 ] , \n",
    "    [ 1568 , 256 ] ,\n",
    "    [ 256 , output_classes ] ,\n",
    "]\n",
    "\n",
    "weights = []\n",
    "for i in range( len( shapes ) ):\n",
    "    weights.append( get_weight( shapes[ i ] , 'weight{}'.format( i ) ) )"
   ],
   "execution_count": null,
   "outputs": []
  },
  {
   "cell_type": "code",
   "metadata": {
    "id": "abQDO_QZHn36"
   },
   "source": [
    "leaky_relu_alpha = 0.2\n",
    "\n",
    "def conv2d( inputs , filters , stride_size ):\n",
    "    out = tf.nn.conv2d( inputs , filters , strides=[ 1 , stride_size , stride_size , 1 ] , padding=padding ) \n",
    "    return tf.nn.leaky_relu( out , alpha=leaky_relu_alpha ) \n",
    "\n",
    "def maxpool( inputs , pool_size , stride_size ):\n",
    "    return tf.nn.max_pool2d( inputs , ksize=[ 1 , pool_size , pool_size , 1 ] , padding='VALID' , strides=[ 1 , stride_size , stride_size , 1 ] )\n",
    "\n",
    "def dense( inputs , weights ):\n",
    "    x = tf.nn.leaky_relu( tf.matmul( inputs , weights ) , alpha=leaky_relu_alpha )\n",
    "    return x\n",
    "\n"
   ],
   "execution_count": null,
   "outputs": []
  },
  {
   "cell_type": "code",
   "metadata": {
    "id": "DJeYhy5cx-su"
   },
   "source": [
    "def cnn_model( x ) :\n",
    "    x = tf.cast( x , dtype=tf.float32 )\n",
    "    c1 = conv2d( x , weights[ 0 ] , stride_size=1 ) \n",
    "    p1 = maxpool( c1 , pool_size=2 , stride_size=2 )\n",
    "    dr1 = tf.nn.dropout( p1 , rate=0.3 )\n",
    "    \n",
    "    c2 = conv2d( dr1 , weights[ 1 ] , stride_size=1 )\n",
    "    p2 = maxpool( c2 , pool_size=2 , stride_size=2 )\n",
    "    dr2 = tf.nn.dropout( p2 , rate=0.3 )\n",
    "\n",
    "    flatten = tf.reshape( dr2 , shape=( tf.shape( p2 )[0] , -1 ))\n",
    "    de1 = dense( flatten , weights[ 2 ] )\n",
    "    dr3 = tf.nn.dropout( de1 , rate=0.5 )\n",
    "    logits = tf.matmul( dr3 , weights[ 3 ] )\n",
    "\n",
    "    return tf.nn.softmax( logits )"
   ],
   "execution_count": null,
   "outputs": []
  },
  {
   "cell_type": "code",
   "metadata": {
    "id": "KLGbADebyQzT"
   },
   "source": [
    "def loss( pred , target ):\n",
    "    return tf.losses.categorical_crossentropy( target , pred )"
   ],
   "execution_count": null,
   "outputs": []
  },
  {
   "cell_type": "code",
   "metadata": {
    "id": "lw8Apd5YyRn0"
   },
   "source": [
    "optimizer = tf.optimizers.Adam( learning_rate )\n",
    "\n",
    "def train_step( model, inputs , outputs ):\n",
    "    with tf.GradientTape() as tape:\n",
    "        current_loss = loss( model( inputs ), outputs)\n",
    "    grads = tape.gradient( current_loss , weights )\n",
    "    optimizer.apply_gradients( zip( grads , weights ) )\n",
    "    print( tf.reduce_mean( current_loss ) )\n",
    "    \n",
    "num_epochs = 256\n",
    "\n",
    "for e in range( num_epochs ):\n",
    "    for i in range(batch_size, batch_size, 55000):\n",
    "        image , label = x_train[i-batch_size:i], x_test[i-batch_size:i]\n",
    "        train_step( cnn_model , image , tf.one_hot( label , depth=3 ) )"
   ],
   "execution_count": null,
   "outputs": []
  }
 ]
}
